{
 "cells": [
  {
   "cell_type": "code",
   "execution_count": 1,
   "id": "3d432ffe-9323-4fd3-8efc-ac82a4d529b7",
   "metadata": {},
   "outputs": [],
   "source": [
    "List = []"
   ]
  },
  {
   "cell_type": "code",
   "execution_count": 9,
   "id": "6943f9ad-8e71-4250-a329-f8897f934174",
   "metadata": {},
   "outputs": [],
   "source": [
    "Lists = [3,5,4,8]"
   ]
  },
  {
   "cell_type": "code",
   "execution_count": 10,
   "id": "66ab6325-9a15-4b3e-873d-8c0b4303303e",
   "metadata": {},
   "outputs": [
    {
     "name": "stdout",
     "output_type": "stream",
     "text": [
      "8\n"
     ]
    }
   ],
   "source": [
    "print(Lists[3])"
   ]
  },
  {
   "cell_type": "code",
   "execution_count": 11,
   "id": "16f109a7-fae6-4828-804d-0b5ab0fd4efe",
   "metadata": {},
   "outputs": [],
   "source": [
    "Lists.reverse()"
   ]
  },
  {
   "cell_type": "code",
   "execution_count": 12,
   "id": "1626c205-26aa-4b7e-a551-a1273bd8282e",
   "metadata": {},
   "outputs": [
    {
     "data": {
      "text/plain": [
       "[8, 4, 5, 3]"
      ]
     },
     "execution_count": 12,
     "metadata": {},
     "output_type": "execute_result"
    }
   ],
   "source": [
    "Lists"
   ]
  },
  {
   "cell_type": "code",
   "execution_count": 13,
   "id": "1832b5ef-fd20-464c-a7ee-34bf3f6c25de",
   "metadata": {},
   "outputs": [],
   "source": [
    "Lists.sort()"
   ]
  },
  {
   "cell_type": "code",
   "execution_count": 14,
   "id": "89fdbf55-b9c4-4863-b558-80386203b054",
   "metadata": {},
   "outputs": [
    {
     "data": {
      "text/plain": [
       "[3, 4, 5, 8]"
      ]
     },
     "execution_count": 14,
     "metadata": {},
     "output_type": "execute_result"
    }
   ],
   "source": [
    "Lists"
   ]
  },
  {
   "cell_type": "code",
   "execution_count": 16,
   "id": "6b3fb178-9a0f-4a23-b825-302686d1a3fe",
   "metadata": {},
   "outputs": [],
   "source": [
    "Favorite_Movie = [\"3 Idiots\",\"KGF\",\"Master\"]"
   ]
  },
  {
   "cell_type": "code",
   "execution_count": 17,
   "id": "786fd05f-1bbd-4f42-a281-0fab801d52dd",
   "metadata": {},
   "outputs": [
    {
     "name": "stdout",
     "output_type": "stream",
     "text": [
      "KGF\n"
     ]
    }
   ],
   "source": [
    "print(Favorite_Movie[1])"
   ]
  },
  {
   "cell_type": "code",
   "execution_count": 34,
   "id": "5536d2bc-50e8-4da3-820a-24d82dc38472",
   "metadata": {},
   "outputs": [],
   "source": [
    "Favorite_Animal = [\"Tiger\",\"Lion\",\"Horse\"]"
   ]
  },
  {
   "cell_type": "code",
   "execution_count": 35,
   "id": "ef8cb639-c2bb-4599-9c4e-ed3c5c36f777",
   "metadata": {},
   "outputs": [],
   "source": [
    "Favorite_Animal.append(\"Eagle\")"
   ]
  },
  {
   "cell_type": "code",
   "execution_count": 36,
   "id": "a6ee8a0b-bfa0-4243-a97e-2cbfbc97ff4e",
   "metadata": {},
   "outputs": [
    {
     "name": "stdout",
     "output_type": "stream",
     "text": [
      "['Tiger', 'Lion', 'Horse', 'Eagle']\n"
     ]
    }
   ],
   "source": [
    "print(Favorite_Animal)"
   ]
  },
  {
   "cell_type": "code",
   "execution_count": 37,
   "id": "96a69130-288c-435b-99ef-9aa79988272e",
   "metadata": {},
   "outputs": [],
   "source": [
    "Favorite_Cities = [\"Mumbai\",\"Delhi\",\"Bangalore\"]"
   ]
  },
  {
   "cell_type": "code",
   "execution_count": 39,
   "id": "bdc955d4-2453-49a8-a89f-54cf6a16a73a",
   "metadata": {},
   "outputs": [
    {
     "data": {
      "text/plain": [
       "2"
      ]
     },
     "execution_count": 39,
     "metadata": {},
     "output_type": "execute_result"
    }
   ],
   "source": [
    "Favorite_Cities.index(\"Bangalore\")"
   ]
  },
  {
   "cell_type": "code",
   "execution_count": 40,
   "id": "8a795668-eff2-46f2-a14f-b818625fc2a7",
   "metadata": {},
   "outputs": [
    {
     "name": "stdout",
     "output_type": "stream",
     "text": [
      "Bangalore\n"
     ]
    }
   ],
   "source": [
    "print(Favorite_Cities[2])"
   ]
  },
  {
   "cell_type": "code",
   "execution_count": null,
   "id": "c6aee25d-8038-41cd-8bb8-74f7d3950e2d",
   "metadata": {},
   "outputs": [],
   "source": []
  }
 ],
 "metadata": {
  "kernelspec": {
   "display_name": "Python 3 (ipykernel)",
   "language": "python",
   "name": "python3"
  },
  "language_info": {
   "codemirror_mode": {
    "name": "ipython",
    "version": 3
   },
   "file_extension": ".py",
   "mimetype": "text/x-python",
   "name": "python",
   "nbconvert_exporter": "python",
   "pygments_lexer": "ipython3",
   "version": "3.10.8"
  }
 },
 "nbformat": 4,
 "nbformat_minor": 5
}
